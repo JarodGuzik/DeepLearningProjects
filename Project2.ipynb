{
 "cells": [
  {
   "cell_type": "code",
   "execution_count": 26,
   "id": "a92e9ca0-6968-418a-beca-204c2e3ea7e7",
   "metadata": {
    "tags": []
   },
   "outputs": [],
   "source": [
    "import numpy as np\n",
    "import matplotlib.pyplot as plt\n",
    "%matplotlib inline\n",
    "plt.style.use('bmh')\n",
    "\n",
    "import tensorflow as tf\n",
    "from tensorflow import keras\n",
    "from sklearn.datasets import fetch_openml \n",
    "from sklearn.model_selection import train_test_split"
   ]
  },
  {
   "cell_type": "code",
   "execution_count": 8,
   "id": "03854dd8-f564-47d9-b733-b4f2bb8730b2",
   "metadata": {
    "tags": []
   },
   "outputs": [],
   "source": [
    "data = fetch_openml('Kuzushiji-MNIST')"
   ]
  },
  {
   "cell_type": "code",
   "execution_count": 17,
   "id": "2a25cf6b-28d0-4d72-ae2a-f585ed6aaeb3",
   "metadata": {
    "tags": []
   },
   "outputs": [],
   "source": [
    "X, t = data.data.to_numpy(), data.target.to_numpy()\n",
    "X = X/255. # accomplishes the scaling\n",
    "X = X.reshape((70000,28,28))\n",
    "t = t.astype(np.uint8)"
   ]
  },
  {
   "cell_type": "code",
   "execution_count": 24,
   "id": "060bdfd1-7661-418f-8105-e5efc5c83700",
   "metadata": {
    "tags": []
   },
   "outputs": [
    {
     "data": {
      "image/png": "[encoded data removed]",
      "text/plain": [
       "<Figure size 432x288 with 1 Axes>"
      ]
     },
     "metadata": {
      "needs_background": "light"
     },
     "output_type": "display_data"
    }
   ],
   "source": [
    "plt.imshow(X[34566], cmap='gray')\n",
    "plt.axis('off');"
   ]
  },
  {
   "cell_type": "code",
   "execution_count": 27,
   "id": "57488b11-a50a-4b6f-91cb-c60c1618c3c7",
   "metadata": {
    "tags": []
   },
   "outputs": [],
   "source": [
    "X_train, X_test, t_train, t_test = X[:60000], X[60000:], t[:60000], t[60000:]\n",
    "X_train, X_val, t_train, t_val = train_test_split(X_train, t_train, \n",
    "                                                  test_size = 0.20,\n",
    "                                                  stratify = t_train)"
   ]
  },
  {
   "cell_type": "code",
   "execution_count": 28,
   "id": "ab5c8a5a-c669-4af2-a12a-32ddae55ab29",
   "metadata": {
    "tags": []
   },
   "outputs": [],
   "source": [
    "bottleneck = 100"
   ]
  },
  {
   "cell_type": "code",
   "execution_count": 29,
   "id": "6eecbbd0-0c7f-4197-902d-3892217436b3",
   "metadata": {
    "tags": []
   },
   "outputs": [],
   "source": [
    "encoder = keras.models.Sequential([\n",
    "    keras.layers.Flatten(input_shape=[28,28]),\n",
    "    keras.layers.Dense(800, use_bias=False),\n",
    "    keras.layers.Dense(200, use_bias=False),\n",
    "    keras.layers.Dense(bottleneck, use_bias=False)\n",
    "])\n",
    "\n",
    "decoder = keras.models.Sequential([\n",
    "    keras.layers.Dense(200, use_bias=False),\n",
    "    keras.layers.Dense(800, use_bias=False),\n",
    "    keras.layers.Dense(28*28,use_bias=False),\n",
    "    keras.layers.Reshape([28, 28])\n",
    "])\n",
    "\n",
    "autoencoder = keras.models.Sequential([encoder, decoder])\n",
    "\n",
    "autoencoder.compile(loss=keras.losses.mean_squared_error, \n",
    "                    optimizer=keras.optimizers.SGD(learning_rate=0.1))"
   ]
  },
  {
   "cell_type": "code",
   "execution_count": null,
   "id": "aa596248-6f0d-44ae-a377-868966529ea7",
   "metadata": {},
   "outputs": [],
   "source": []
  },
  {
   "cell_type": "code",
   "execution_count": null,
   "id": "5899c0d2-f5d2-418c-ae7d-d25c0a04f176",
   "metadata": {},
   "outputs": [],
   "source": []
  },
  {
   "cell_type": "code",
   "execution_count": null,
   "id": "25ed12ca-fefb-4a4b-a72c-bfe85f0c546d",
   "metadata": {},
   "outputs": [],
   "source": []
  }
 ],
 "metadata": {
  "kernelspec": {
   "display_name": "Tensorflow-2.7.0",
   "language": "python",
   "name": "tensorflow-2.7.0"
  },
  "language_info": {
   "codemirror_mode": {
    "name": "ipython",
    "version": 3
   },
   "file_extension": ".py",
   "mimetype": "text/x-python",
   "name": "python",
   "nbconvert_exporter": "python",
   "pygments_lexer": "ipython3",
   "version": "3.9.12"
  }
 },
 "nbformat": 4,
 "nbformat_minor": 5
}
